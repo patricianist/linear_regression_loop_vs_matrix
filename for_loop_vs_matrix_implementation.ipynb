{
 "cells": [
  {
   "cell_type": "code",
   "execution_count": 2,
   "metadata": {
    "collapsed": false
   },
   "outputs": [
    {
     "name": "stderr",
     "output_type": "stream",
     "text": [
      "/Users/patrick.lee/anaconda/envs/deeplearning/lib/python2.7/site-packages/IPython/html.py:14: ShimWarning: The `IPython.html` package has been deprecated. You should import from `notebook` instead. `IPython.html.widgets` has moved to `ipywidgets`.\n",
      "  \"`IPython.html.widgets` has moved to `ipywidgets`.\", ShimWarning)\n"
     ]
    }
   ],
   "source": [
    "from numpy import *\n",
    "import numpy as np\n",
    "import datetime\n",
    "import matplotlib.pyplot as plt\n",
    "import seaborn as sns\n",
    "%matplotlib inline  "
   ]
  },
  {
   "cell_type": "code",
   "execution_count": 3,
   "metadata": {
    "collapsed": true
   },
   "outputs": [],
   "source": [
    "def compute_error_for_line_given_points_matrix(b, m, points):\n",
    "\n",
    "    x = points[:, 0]\n",
    "    y = points[:, 1]\n",
    "\n",
    "    ms = np.full(x.shape, m)\n",
    "    bs = np.full(x.shape, b)\n",
    "\n",
    "    error = np.mean(np.power((y - (ms * x + bs)), 2))\n",
    "\n",
    "    return error\n",
    "\n",
    "\n",
    "def compute_error_for_line_given_points(b, m, points):\n",
    "    # initialize it at 0\n",
    "    total_error = 0\n",
    "    # for every point\n",
    "\n",
    "    for i in range(0, len(points)):\n",
    "        # get the x value\n",
    "        x = points[i, 0]\n",
    "        # get the y value\n",
    "        y = points[i, 1]\n",
    "        # get the difference, square it, add it to the total\n",
    "        total_error += (y - (m * x + b)) ** 2\n",
    "\n",
    "    # get the average\n",
    "    error = total_error / float(len(points))\n",
    "\n",
    "    return error"
   ]
  },
  {
   "cell_type": "code",
   "execution_count": 4,
   "metadata": {
    "collapsed": true
   },
   "outputs": [],
   "source": [
    "# magic, the greatest\n",
    "def step_gradient_matrix(b_current, m_current, points, learning_rate):\n",
    "\n",
    "    # starting points for our gradient\n",
    "    n = float(len(points))\n",
    "\n",
    "    x = points[:, 0]\n",
    "    y = points[:, 1]\n",
    "\n",
    "    m_current_array = np.full(x.shape, m_current)\n",
    "    b_current_array = np.full(x.shape, b_current)\n",
    "\n",
    "    b_errors = -(2 / n) * (y - ((m_current_array * x) + b_current_array))\n",
    "    m_errors = -(2 / n) * x * (y - ((m_current_array * x) + b_current_array))\n",
    "\n",
    "    b_gradient = np.sum(b_errors)\n",
    "    m_gradient = np.sum(m_errors)\n",
    "\n",
    "    # update our b and m values using this partial derivatives\n",
    "    new_b = b_current - (learning_rate * b_gradient)\n",
    "    new_m = m_current - (learning_rate * m_gradient)\n",
    "    return [new_b, new_m]\n",
    "\n",
    "\n",
    "def step_gradient(b_current, m_current, points, learning_rate):\n",
    "\n",
    "    # starting points for our gradient\n",
    "    b_gradient = 0\n",
    "    m_gradient = 0\n",
    "    n = float(len(points))\n",
    "\n",
    "    for i in range(0, len(points)):\n",
    "        x = points[i, 0]\n",
    "        y = points[i, 1]\n",
    "        # direction with respect to b and m\n",
    "        # computing partial derivatives of our error function\n",
    "        b_gradient += -(2 / n) * (y - ((m_current * x) + b_current))\n",
    "        m_gradient += -(2 / n) * x * (y - ((m_current * x) + b_current))\n",
    "\n",
    "    # print(\"b:{0}, m:{1}\".format(learning_rate * b_gradient, learning_rate * m_gradient))\n",
    "    # update our b and m values using this partial derivatives\n",
    "    new_b = b_current - (learning_rate * b_gradient)\n",
    "    new_m = m_current - (learning_rate * m_gradient)\n",
    "    return [new_b, new_m]"
   ]
  },
  {
   "cell_type": "code",
   "execution_count": 5,
   "metadata": {
    "collapsed": true
   },
   "outputs": [],
   "source": [
    "def gradient_descent_runner_matrix(points, starting_b, starting_m, learning_rate, num_iterations):\n",
    "    # starting b and m\n",
    "    b = starting_b\n",
    "    m = starting_m\n",
    "\n",
    "    # gradient descent\n",
    "    for i in range(num_iterations):\n",
    "        # print(\"b:{0}, m:{1}\".format(b, m))\n",
    "        # update b and m with the new more accurate b and m by performing\n",
    "        # this gradient step\n",
    "        b, m = step_gradient_matrix(b, m, array(points), learning_rate)\n",
    "    return [b, m]\n",
    "\n",
    "\n",
    "def gradient_descent_runner(points, starting_b, starting_m, learning_rate, num_iterations):\n",
    "    # starting b and m\n",
    "    b = starting_b\n",
    "    m = starting_m\n",
    "\n",
    "    # gradient descent\n",
    "    for i in range(num_iterations):\n",
    "        # print(\"b:{0}, m:{1}\".format(b, m))\n",
    "        # update b and m with the new more accurate b and m by performing\n",
    "        # this gradient step\n",
    "        b, m = step_gradient(b, m, array(points), learning_rate)\n",
    "    return [b, m]"
   ]
  },
  {
   "cell_type": "code",
   "execution_count": 9,
   "metadata": {
    "collapsed": false
   },
   "outputs": [
    {
     "name": "stdout",
     "output_type": "stream",
     "text": [
      "...\n",
      "...\n",
      "...\n",
      "...\n",
      "...\n",
      "[100, 200, 400, 800, 1600]\n",
      "[0.100686, 0.218332, 0.573265, 0.958177, 1.636424]\n",
      "[0.018881, 0.022485, 0.030849, 0.027794, 0.039546]\n"
     ]
    },
    {
     "data": {
      "image/png": "[encoded data removed]",
      "text/plain": [
       "<matplotlib.figure.Figure at 0x11085e3d0>"
      ]
     },
     "metadata": {},
     "output_type": "display_data"
    }
   ],
   "source": [
    "def double_the_size(array):\n",
    "    return np.concatenate((array, array))\n",
    "        \n",
    "def run():\n",
    "\n",
    "    # Step 1 - define our hyper-parameters\n",
    "    # how fast should our model converge?\n",
    "    learning_rate = 0.0001\n",
    "    # y = mx + b (slope formula)\n",
    "    initial_b = 0\n",
    "    initial_m = 0\n",
    "    num_iterations = 1000\n",
    "\n",
    "    # Step 2 - collect our data\n",
    "    points = genfromtxt('data.csv', delimiter=',')\n",
    "    \n",
    "    run_times = 5\n",
    "    data_size_array = []\n",
    "    for_loop_array = []\n",
    "    matrix_array = []\n",
    "    \n",
    "\n",
    "    # Step 3 - train our model\n",
    "    for i in xrange(run_times):        \n",
    "        print('...')\n",
    "        \n",
    "        # run with for loop\n",
    "        start_time = datetime.datetime.now()\n",
    "\n",
    "        [b, m] = gradient_descent_runner(points, initial_b, initial_m, learning_rate, num_iterations)\n",
    "        end_time = datetime.datetime.now()\n",
    "        time_used = end_time - start_time\n",
    "        for_loop_array.append(time_used.total_seconds())\n",
    "\n",
    "\n",
    "        # run with matrix\n",
    "        start_time = datetime.datetime.now()\n",
    "\n",
    "        [b, m] = gradient_descent_runner_matrix(points, initial_b, initial_m, learning_rate, num_iterations)\n",
    "        end_time = datetime.datetime.now()\n",
    "        time_used = end_time - start_time\n",
    "        matrix_array.append(time_used.total_seconds())\n",
    "        \n",
    "        data_size_array.append(points.shape[0])\n",
    "        points = double_the_size(points)\n",
    "\n",
    "    print(data_size_array)\n",
    "    print(for_loop_array)\n",
    "    print(matrix_array)\n",
    "\n",
    "    \n",
    "    fig = plt.figure()\n",
    "    fig.set_size_inches(12.5, 5.5)\n",
    "    ax = fig.add_subplot(111)\n",
    "    l, = ax.plot(data_size_array, for_loop_array, 'r-', lw=2.0, label='for-loop')\n",
    "    l, = ax.plot(data_size_array, matrix_array, 'b-', lw=1.0, label='matrix')\n",
    "    ax.set_xlabel('no. of data points')\n",
    "    ax.set_ylabel('run time(s)')\n",
    "    ax.set_title('For-loop vs Matrix')\n",
    "    plt.legend(loc=\"upper left\", bbox_to_anchor=[0, 1],\n",
    "           ncol=2, title=\"Legend\", fancybox=True)\n",
    "    plt.show()\n",
    "    \n",
    "\n",
    "if __name__ == '__main__':\n",
    "    run()"
   ]
  },
  {
   "cell_type": "code",
   "execution_count": null,
   "metadata": {
    "collapsed": true
   },
   "outputs": [],
   "source": []
  },
  {
   "cell_type": "code",
   "execution_count": null,
   "metadata": {
    "collapsed": true
   },
   "outputs": [],
   "source": []
  }
 ],
 "metadata": {
  "kernelspec": {
   "display_name": "Python (deeplearning)",
   "language": "python",
   "name": "deeplearning"
  },
  "language_info": {
   "codemirror_mode": {
    "name": "ipython",
    "version": 2
   },
   "file_extension": ".py",
   "mimetype": "text/x-python",
   "name": "python",
   "nbconvert_exporter": "python",
   "pygments_lexer": "ipython2",
   "version": "2.7.13"
  }
 },
 "nbformat": 4,
 "nbformat_minor": 2
}
